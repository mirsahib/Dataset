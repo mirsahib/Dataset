{
 "cells": [
  {
   "cell_type": "code",
   "execution_count": 1,
   "metadata": {},
   "outputs": [],
   "source": [
    "import numpy as np\n",
    "import pandas as pd\n",
    "from sklearn.model_selection import train_test_split\n",
    "from sklearn.tree import DecisionTreeClassifier\n",
    "from sklearn.metrics import accuracy_score\n",
    "from sklearn.utils import shuffle\n",
    "from sklearn import tree"
   ]
  },
  {
   "cell_type": "code",
   "execution_count": 2,
   "metadata": {},
   "outputs": [],
   "source": [
    "imu_data = pd.read_csv(\"IMU_Dataset.csv\")"
   ]
  },
  {
   "cell_type": "code",
   "execution_count": 3,
   "metadata": {},
   "outputs": [
    {
     "data": {
      "text/html": [
       "<div>\n",
       "<style scoped>\n",
       "    .dataframe tbody tr th:only-of-type {\n",
       "        vertical-align: middle;\n",
       "    }\n",
       "\n",
       "    .dataframe tbody tr th {\n",
       "        vertical-align: top;\n",
       "    }\n",
       "\n",
       "    .dataframe thead th {\n",
       "        text-align: right;\n",
       "    }\n",
       "</style>\n",
       "<table border=\"1\" class=\"dataframe\">\n",
       "  <thead>\n",
       "    <tr style=\"text-align: right;\">\n",
       "      <th></th>\n",
       "      <th>IQRAccX</th>\n",
       "      <th>IQRAccY</th>\n",
       "      <th>IQRAccZ</th>\n",
       "      <th>IQRGyroX</th>\n",
       "      <th>IQRGyroY</th>\n",
       "      <th>IQRGyroZ</th>\n",
       "      <th>IQRMagX</th>\n",
       "      <th>IQRMagY</th>\n",
       "      <th>IQRMagZ</th>\n",
       "      <th>KurtosisAccX</th>\n",
       "      <th>...</th>\n",
       "      <th>VarianceMagY</th>\n",
       "      <th>VarianceMagZ</th>\n",
       "      <th>meanAccX</th>\n",
       "      <th>meanAccY</th>\n",
       "      <th>meanAccZ</th>\n",
       "      <th>meanGyroY</th>\n",
       "      <th>meanGyroZ</th>\n",
       "      <th>meanMagX</th>\n",
       "      <th>meanMagY</th>\n",
       "      <th>Label</th>\n",
       "    </tr>\n",
       "  </thead>\n",
       "  <tbody>\n",
       "    <tr>\n",
       "      <th>0</th>\n",
       "      <td>0.380698</td>\n",
       "      <td>0.220278</td>\n",
       "      <td>0.251404</td>\n",
       "      <td>0.053264</td>\n",
       "      <td>0.048603</td>\n",
       "      <td>0.045008</td>\n",
       "      <td>0.901977</td>\n",
       "      <td>1.262768</td>\n",
       "      <td>0.610882</td>\n",
       "      <td>-1.597763</td>\n",
       "      <td>...</td>\n",
       "      <td>0.971070</td>\n",
       "      <td>2.400533</td>\n",
       "      <td>-6.944496</td>\n",
       "      <td>3.828045</td>\n",
       "      <td>2.745810</td>\n",
       "      <td>-1.356632</td>\n",
       "      <td>-0.469065</td>\n",
       "      <td>-5.303622</td>\n",
       "      <td>50.763238</td>\n",
       "      <td>0</td>\n",
       "    </tr>\n",
       "    <tr>\n",
       "      <th>1</th>\n",
       "      <td>0.380698</td>\n",
       "      <td>0.220278</td>\n",
       "      <td>0.251404</td>\n",
       "      <td>0.053264</td>\n",
       "      <td>0.048603</td>\n",
       "      <td>0.045008</td>\n",
       "      <td>0.901977</td>\n",
       "      <td>1.262768</td>\n",
       "      <td>0.610882</td>\n",
       "      <td>-1.323387</td>\n",
       "      <td>...</td>\n",
       "      <td>0.559324</td>\n",
       "      <td>1.269955</td>\n",
       "      <td>-5.192091</td>\n",
       "      <td>2.114187</td>\n",
       "      <td>4.400767</td>\n",
       "      <td>0.835795</td>\n",
       "      <td>0.573020</td>\n",
       "      <td>-12.582573</td>\n",
       "      <td>51.457760</td>\n",
       "      <td>0</td>\n",
       "    </tr>\n",
       "    <tr>\n",
       "      <th>2</th>\n",
       "      <td>0.380698</td>\n",
       "      <td>0.220278</td>\n",
       "      <td>0.251404</td>\n",
       "      <td>0.053264</td>\n",
       "      <td>0.048603</td>\n",
       "      <td>0.045008</td>\n",
       "      <td>0.901977</td>\n",
       "      <td>1.262768</td>\n",
       "      <td>0.610882</td>\n",
       "      <td>-1.132845</td>\n",
       "      <td>...</td>\n",
       "      <td>1.519325</td>\n",
       "      <td>0.919619</td>\n",
       "      <td>-8.785971</td>\n",
       "      <td>4.398373</td>\n",
       "      <td>2.660094</td>\n",
       "      <td>-1.553696</td>\n",
       "      <td>-0.407838</td>\n",
       "      <td>-1.488261</td>\n",
       "      <td>48.391040</td>\n",
       "      <td>0</td>\n",
       "    </tr>\n",
       "    <tr>\n",
       "      <th>3</th>\n",
       "      <td>0.380698</td>\n",
       "      <td>0.220278</td>\n",
       "      <td>0.251404</td>\n",
       "      <td>0.053264</td>\n",
       "      <td>0.048603</td>\n",
       "      <td>0.045008</td>\n",
       "      <td>0.901977</td>\n",
       "      <td>1.262768</td>\n",
       "      <td>0.610882</td>\n",
       "      <td>-1.320270</td>\n",
       "      <td>...</td>\n",
       "      <td>0.949832</td>\n",
       "      <td>0.462667</td>\n",
       "      <td>-4.820971</td>\n",
       "      <td>3.034806</td>\n",
       "      <td>4.142180</td>\n",
       "      <td>0.906037</td>\n",
       "      <td>0.615698</td>\n",
       "      <td>-14.747316</td>\n",
       "      <td>48.932226</td>\n",
       "      <td>0</td>\n",
       "    </tr>\n",
       "    <tr>\n",
       "      <th>4</th>\n",
       "      <td>0.380698</td>\n",
       "      <td>0.220278</td>\n",
       "      <td>0.251404</td>\n",
       "      <td>0.053264</td>\n",
       "      <td>0.048603</td>\n",
       "      <td>0.045008</td>\n",
       "      <td>0.901977</td>\n",
       "      <td>1.262768</td>\n",
       "      <td>0.610882</td>\n",
       "      <td>-1.428473</td>\n",
       "      <td>...</td>\n",
       "      <td>4.466451</td>\n",
       "      <td>0.674429</td>\n",
       "      <td>-6.757580</td>\n",
       "      <td>3.384776</td>\n",
       "      <td>3.214779</td>\n",
       "      <td>-1.323307</td>\n",
       "      <td>-0.317688</td>\n",
       "      <td>-5.622320</td>\n",
       "      <td>49.338115</td>\n",
       "      <td>0</td>\n",
       "    </tr>\n",
       "  </tbody>\n",
       "</table>\n",
       "<p>5 rows × 98 columns</p>\n",
       "</div>"
      ],
      "text/plain": [
       "    IQRAccX   IQRAccY   IQRAccZ  IQRGyroX  IQRGyroY  IQRGyroZ   IQRMagX  \\\n",
       "0  0.380698  0.220278  0.251404  0.053264  0.048603  0.045008  0.901977   \n",
       "1  0.380698  0.220278  0.251404  0.053264  0.048603  0.045008  0.901977   \n",
       "2  0.380698  0.220278  0.251404  0.053264  0.048603  0.045008  0.901977   \n",
       "3  0.380698  0.220278  0.251404  0.053264  0.048603  0.045008  0.901977   \n",
       "4  0.380698  0.220278  0.251404  0.053264  0.048603  0.045008  0.901977   \n",
       "\n",
       "    IQRMagY   IQRMagZ  KurtosisAccX  ...  VarianceMagY  VarianceMagZ  \\\n",
       "0  1.262768  0.610882     -1.597763  ...      0.971070      2.400533   \n",
       "1  1.262768  0.610882     -1.323387  ...      0.559324      1.269955   \n",
       "2  1.262768  0.610882     -1.132845  ...      1.519325      0.919619   \n",
       "3  1.262768  0.610882     -1.320270  ...      0.949832      0.462667   \n",
       "4  1.262768  0.610882     -1.428473  ...      4.466451      0.674429   \n",
       "\n",
       "   meanAccX  meanAccY  meanAccZ  meanGyroY  meanGyroZ   meanMagX   meanMagY  \\\n",
       "0 -6.944496  3.828045  2.745810  -1.356632  -0.469065  -5.303622  50.763238   \n",
       "1 -5.192091  2.114187  4.400767   0.835795   0.573020 -12.582573  51.457760   \n",
       "2 -8.785971  4.398373  2.660094  -1.553696  -0.407838  -1.488261  48.391040   \n",
       "3 -4.820971  3.034806  4.142180   0.906037   0.615698 -14.747316  48.932226   \n",
       "4 -6.757580  3.384776  3.214779  -1.323307  -0.317688  -5.622320  49.338115   \n",
       "\n",
       "   Label  \n",
       "0      0  \n",
       "1      0  \n",
       "2      0  \n",
       "3      0  \n",
       "4      0  \n",
       "\n",
       "[5 rows x 98 columns]"
      ]
     },
     "execution_count": 3,
     "metadata": {},
     "output_type": "execute_result"
    }
   ],
   "source": [
    "imu_data.head()"
   ]
  },
  {
   "cell_type": "code",
   "execution_count": 39,
   "metadata": {},
   "outputs": [],
   "source": [
    "imu_shuffle_data = shuffle(imu_data)"
   ]
  },
  {
   "cell_type": "markdown",
   "metadata": {},
   "source": [
    "#### Sample Dataset"
   ]
  },
  {
   "cell_type": "code",
   "execution_count": 40,
   "metadata": {},
   "outputs": [
    {
     "data": {
      "text/html": [
       "<div>\n",
       "<style scoped>\n",
       "    .dataframe tbody tr th:only-of-type {\n",
       "        vertical-align: middle;\n",
       "    }\n",
       "\n",
       "    .dataframe tbody tr th {\n",
       "        vertical-align: top;\n",
       "    }\n",
       "\n",
       "    .dataframe thead th {\n",
       "        text-align: right;\n",
       "    }\n",
       "</style>\n",
       "<table border=\"1\" class=\"dataframe\">\n",
       "  <thead>\n",
       "    <tr style=\"text-align: right;\">\n",
       "      <th></th>\n",
       "      <th>IQRAccX</th>\n",
       "      <th>IQRAccY</th>\n",
       "      <th>IQRAccZ</th>\n",
       "      <th>IQRGyroX</th>\n",
       "      <th>IQRGyroY</th>\n",
       "      <th>IQRGyroZ</th>\n",
       "      <th>IQRMagX</th>\n",
       "      <th>IQRMagY</th>\n",
       "      <th>IQRMagZ</th>\n",
       "      <th>KurtosisAccX</th>\n",
       "      <th>...</th>\n",
       "      <th>VarianceMagY</th>\n",
       "      <th>VarianceMagZ</th>\n",
       "      <th>meanAccX</th>\n",
       "      <th>meanAccY</th>\n",
       "      <th>meanAccZ</th>\n",
       "      <th>meanGyroY</th>\n",
       "      <th>meanGyroZ</th>\n",
       "      <th>meanMagX</th>\n",
       "      <th>meanMagY</th>\n",
       "      <th>Label</th>\n",
       "    </tr>\n",
       "  </thead>\n",
       "  <tbody>\n",
       "    <tr>\n",
       "      <th>395</th>\n",
       "      <td>0.483653</td>\n",
       "      <td>0.356755</td>\n",
       "      <td>0.332811</td>\n",
       "      <td>0.119711</td>\n",
       "      <td>0.102666</td>\n",
       "      <td>0.109724</td>\n",
       "      <td>1.803953</td>\n",
       "      <td>1.082367</td>\n",
       "      <td>1.483574</td>\n",
       "      <td>-0.876122</td>\n",
       "      <td>...</td>\n",
       "      <td>3.543498</td>\n",
       "      <td>6.528429</td>\n",
       "      <td>0.197584</td>\n",
       "      <td>1.382462</td>\n",
       "      <td>7.860461</td>\n",
       "      <td>0.135918</td>\n",
       "      <td>0.259306</td>\n",
       "      <td>-19.647401</td>\n",
       "      <td>99.805662</td>\n",
       "      <td>5</td>\n",
       "    </tr>\n",
       "    <tr>\n",
       "      <th>245</th>\n",
       "      <td>0.134083</td>\n",
       "      <td>0.110139</td>\n",
       "      <td>1.920248</td>\n",
       "      <td>0.120643</td>\n",
       "      <td>0.066047</td>\n",
       "      <td>0.074836</td>\n",
       "      <td>0.721582</td>\n",
       "      <td>0.721584</td>\n",
       "      <td>2.443537</td>\n",
       "      <td>6.895658</td>\n",
       "      <td>...</td>\n",
       "      <td>0.852303</td>\n",
       "      <td>6.383267</td>\n",
       "      <td>-8.333159</td>\n",
       "      <td>4.998664</td>\n",
       "      <td>0.876322</td>\n",
       "      <td>-0.054526</td>\n",
       "      <td>0.019120</td>\n",
       "      <td>3.101081</td>\n",
       "      <td>34.455502</td>\n",
       "      <td>1</td>\n",
       "    </tr>\n",
       "    <tr>\n",
       "      <th>384</th>\n",
       "      <td>0.900266</td>\n",
       "      <td>3.270646</td>\n",
       "      <td>5.559620</td>\n",
       "      <td>0.033557</td>\n",
       "      <td>0.230899</td>\n",
       "      <td>0.087086</td>\n",
       "      <td>6.313835</td>\n",
       "      <td>7.396202</td>\n",
       "      <td>17.977446</td>\n",
       "      <td>-1.083227</td>\n",
       "      <td>...</td>\n",
       "      <td>31.453693</td>\n",
       "      <td>184.426760</td>\n",
       "      <td>5.376587</td>\n",
       "      <td>-5.218029</td>\n",
       "      <td>2.096896</td>\n",
       "      <td>0.517929</td>\n",
       "      <td>-0.221298</td>\n",
       "      <td>-23.792136</td>\n",
       "      <td>95.629555</td>\n",
       "      <td>0</td>\n",
       "    </tr>\n",
       "    <tr>\n",
       "      <th>104</th>\n",
       "      <td>0.684776</td>\n",
       "      <td>0.253798</td>\n",
       "      <td>0.191546</td>\n",
       "      <td>0.046339</td>\n",
       "      <td>0.062585</td>\n",
       "      <td>0.022105</td>\n",
       "      <td>2.345139</td>\n",
       "      <td>0.901978</td>\n",
       "      <td>1.221764</td>\n",
       "      <td>0.105399</td>\n",
       "      <td>...</td>\n",
       "      <td>2.065303</td>\n",
       "      <td>1.553526</td>\n",
       "      <td>-7.411629</td>\n",
       "      <td>6.184538</td>\n",
       "      <td>-0.769775</td>\n",
       "      <td>0.008838</td>\n",
       "      <td>0.139983</td>\n",
       "      <td>2.581908</td>\n",
       "      <td>48.221919</td>\n",
       "      <td>2</td>\n",
       "    </tr>\n",
       "    <tr>\n",
       "      <th>411</th>\n",
       "      <td>0.399852</td>\n",
       "      <td>0.184363</td>\n",
       "      <td>0.302882</td>\n",
       "      <td>0.069110</td>\n",
       "      <td>0.053397</td>\n",
       "      <td>0.044742</td>\n",
       "      <td>1.533360</td>\n",
       "      <td>1.803955</td>\n",
       "      <td>0.829057</td>\n",
       "      <td>1.325616</td>\n",
       "      <td>...</td>\n",
       "      <td>0.898896</td>\n",
       "      <td>0.393861</td>\n",
       "      <td>6.427801</td>\n",
       "      <td>-7.211543</td>\n",
       "      <td>-3.788299</td>\n",
       "      <td>0.062465</td>\n",
       "      <td>-0.116223</td>\n",
       "      <td>-14.046782</td>\n",
       "      <td>82.861576</td>\n",
       "      <td>6</td>\n",
       "    </tr>\n",
       "  </tbody>\n",
       "</table>\n",
       "<p>5 rows × 98 columns</p>\n",
       "</div>"
      ],
      "text/plain": [
       "      IQRAccX   IQRAccY   IQRAccZ  IQRGyroX  IQRGyroY  IQRGyroZ   IQRMagX  \\\n",
       "395  0.483653  0.356755  0.332811  0.119711  0.102666  0.109724  1.803953   \n",
       "245  0.134083  0.110139  1.920248  0.120643  0.066047  0.074836  0.721582   \n",
       "384  0.900266  3.270646  5.559620  0.033557  0.230899  0.087086  6.313835   \n",
       "104  0.684776  0.253798  0.191546  0.046339  0.062585  0.022105  2.345139   \n",
       "411  0.399852  0.184363  0.302882  0.069110  0.053397  0.044742  1.533360   \n",
       "\n",
       "      IQRMagY    IQRMagZ  KurtosisAccX  ...  VarianceMagY  VarianceMagZ  \\\n",
       "395  1.082367   1.483574     -0.876122  ...      3.543498      6.528429   \n",
       "245  0.721584   2.443537      6.895658  ...      0.852303      6.383267   \n",
       "384  7.396202  17.977446     -1.083227  ...     31.453693    184.426760   \n",
       "104  0.901978   1.221764      0.105399  ...      2.065303      1.553526   \n",
       "411  1.803955   0.829057      1.325616  ...      0.898896      0.393861   \n",
       "\n",
       "     meanAccX  meanAccY  meanAccZ  meanGyroY  meanGyroZ   meanMagX   meanMagY  \\\n",
       "395  0.197584  1.382462  7.860461   0.135918   0.259306 -19.647401  99.805662   \n",
       "245 -8.333159  4.998664  0.876322  -0.054526   0.019120   3.101081  34.455502   \n",
       "384  5.376587 -5.218029  2.096896   0.517929  -0.221298 -23.792136  95.629555   \n",
       "104 -7.411629  6.184538 -0.769775   0.008838   0.139983   2.581908  48.221919   \n",
       "411  6.427801 -7.211543 -3.788299   0.062465  -0.116223 -14.046782  82.861576   \n",
       "\n",
       "     Label  \n",
       "395      5  \n",
       "245      1  \n",
       "384      0  \n",
       "104      2  \n",
       "411      6  \n",
       "\n",
       "[5 rows x 98 columns]"
      ]
     },
     "execution_count": 40,
     "metadata": {},
     "output_type": "execute_result"
    }
   ],
   "source": [
    "imu_shuffle_data.head()"
   ]
  },
  {
   "cell_type": "code",
   "execution_count": 41,
   "metadata": {},
   "outputs": [
    {
     "name": "stdout",
     "output_type": "stream",
     "text": [
      "Dataset Lenght:: 415\n",
      "Dataset Shape:: (415, 98)\n"
     ]
    }
   ],
   "source": [
    "print (\"Dataset Lenght:: \"+ str(len(imu_shuffle_data)))\n",
    "print (\"Dataset Shape:: \"+str(imu_shuffle_data.shape))"
   ]
  },
  {
   "cell_type": "markdown",
   "metadata": {},
   "source": [
    "### seperating label column and feature colum"
   ]
  },
  {
   "cell_type": "code",
   "execution_count": 42,
   "metadata": {},
   "outputs": [],
   "source": [
    "X = imu_shuffle_data.values[:,0:97]\n",
    "Y = imu_shuffle_data.values[:,-1]"
   ]
  },
  {
   "cell_type": "markdown",
   "metadata": {},
   "source": [
    "### Splitting test data and training data"
   ]
  },
  {
   "cell_type": "code",
   "execution_count": 43,
   "metadata": {},
   "outputs": [],
   "source": [
    "X_train, X_test, y_train, y_test = train_test_split( X, Y, test_size = 0.3, random_state = 100)"
   ]
  },
  {
   "cell_type": "markdown",
   "metadata": {},
   "source": [
    "### Decision tree classifier with gini index as criterion"
   ]
  },
  {
   "cell_type": "code",
   "execution_count": 44,
   "metadata": {},
   "outputs": [
    {
     "data": {
      "text/plain": [
       "DecisionTreeClassifier(class_weight=None, criterion='gini', max_depth=3,\n",
       "            max_features=None, max_leaf_nodes=None,\n",
       "            min_impurity_decrease=0.0, min_impurity_split=None,\n",
       "            min_samples_leaf=5, min_samples_split=2,\n",
       "            min_weight_fraction_leaf=0.0, presort=False, random_state=100,\n",
       "            splitter='best')"
      ]
     },
     "execution_count": 44,
     "metadata": {},
     "output_type": "execute_result"
    }
   ],
   "source": [
    "clf_gini = DecisionTreeClassifier(criterion = \"gini\", random_state = 100,\n",
    "                               max_depth=3, min_samples_leaf=5)\n",
    "clf_gini.fit(X_train, y_train)"
   ]
  },
  {
   "cell_type": "markdown",
   "metadata": {},
   "source": [
    "### Decision tree classifier with information gain as criterion"
   ]
  },
  {
   "cell_type": "code",
   "execution_count": 45,
   "metadata": {},
   "outputs": [
    {
     "data": {
      "text/plain": [
       "DecisionTreeClassifier(class_weight=None, criterion='entropy', max_depth=3,\n",
       "            max_features=None, max_leaf_nodes=None,\n",
       "            min_impurity_decrease=0.0, min_impurity_split=None,\n",
       "            min_samples_leaf=5, min_samples_split=2,\n",
       "            min_weight_fraction_leaf=0.0, presort=False, random_state=100,\n",
       "            splitter='best')"
      ]
     },
     "execution_count": 45,
     "metadata": {},
     "output_type": "execute_result"
    }
   ],
   "source": [
    "clf_entropy = DecisionTreeClassifier(criterion = \"entropy\", random_state = 100,\n",
    " max_depth=3, min_samples_leaf=5)\n",
    "clf_entropy.fit(X_train, y_train)"
   ]
  },
  {
   "cell_type": "markdown",
   "metadata": {},
   "source": [
    "### Sample prediction result"
   ]
  },
  {
   "cell_type": "markdown",
   "metadata": {},
   "source": [
    "### prediction using gini index as criterion"
   ]
  },
  {
   "cell_type": "code",
   "execution_count": 46,
   "metadata": {},
   "outputs": [
    {
     "data": {
      "text/plain": [
       "array([0., 5., 4., 4., 4., 1., 0., 1., 5., 0., 0., 0., 0., 1., 6., 1., 0.,\n",
       "       5., 4., 0., 4., 0., 0., 0., 1., 0., 4., 0., 1., 0., 4., 5., 4., 4.,\n",
       "       1., 1., 0., 0., 1., 0., 5., 0., 4., 0., 0., 1., 6., 0., 6., 6., 0.,\n",
       "       5., 6., 4., 4., 0., 0., 0., 1., 0., 0., 0., 0., 1., 0., 4., 0., 0.,\n",
       "       1., 0., 1., 0., 0., 1., 6., 4., 0., 0., 4., 0., 6., 6., 0., 0., 0.,\n",
       "       4., 0., 6., 4., 0., 4., 0., 5., 0., 4., 4., 4., 1., 0., 5., 1., 4.,\n",
       "       0., 0., 0., 6., 0., 6., 4., 1., 0., 4., 4., 0., 1., 0., 0., 0., 4.,\n",
       "       0., 0., 1., 0., 6., 1.])"
      ]
     },
     "execution_count": 46,
     "metadata": {},
     "output_type": "execute_result"
    }
   ],
   "source": [
    "y_pred = clf_gini.predict(X_test)\n",
    "y_pred"
   ]
  },
  {
   "cell_type": "markdown",
   "metadata": {},
   "source": [
    "### Prediction usin Information gain as criterion"
   ]
  },
  {
   "cell_type": "code",
   "execution_count": 47,
   "metadata": {},
   "outputs": [
    {
     "data": {
      "text/plain": [
       "array([0., 5., 4., 1., 4., 1., 0., 1., 5., 0., 0., 0., 0., 1., 6., 1., 0.,\n",
       "       5., 1., 0., 4., 0., 0., 0., 1., 0., 4., 0., 1., 0., 4., 5., 4., 1.,\n",
       "       1., 1., 0., 0., 1., 0., 5., 0., 1., 0., 0., 1., 5., 0., 6., 6., 0.,\n",
       "       5., 5., 1., 4., 0., 0., 0., 1., 0., 0., 0., 0., 1., 0., 1., 0., 0.,\n",
       "       1., 0., 1., 0., 0., 1., 6., 4., 0., 0., 4., 0., 5., 6., 0., 0., 0.,\n",
       "       4., 0., 6., 1., 0., 4., 0., 5., 0., 4., 4., 1., 1., 0., 5., 1., 1.,\n",
       "       0., 0., 0., 6., 0., 5., 4., 1., 0., 1., 4., 0., 1., 0., 0., 0., 1.,\n",
       "       0., 0., 1., 0., 6., 1.])"
      ]
     },
     "execution_count": 47,
     "metadata": {},
     "output_type": "execute_result"
    }
   ],
   "source": [
    "y_pred_en = clf_entropy.predict(X_test)\n",
    "y_pred_en"
   ]
  },
  {
   "cell_type": "markdown",
   "metadata": {},
   "source": [
    "### Result"
   ]
  },
  {
   "cell_type": "code",
   "execution_count": 48,
   "metadata": {},
   "outputs": [
    {
     "name": "stdout",
     "output_type": "stream",
     "text": [
      "Accuracy is 77.60000000000001\n"
     ]
    }
   ],
   "source": [
    "print (\"Accuracy is \"+str( accuracy_score(y_test,y_pred)*100))"
   ]
  },
  {
   "cell_type": "code",
   "execution_count": 49,
   "metadata": {},
   "outputs": [
    {
     "name": "stdout",
     "output_type": "stream",
     "text": [
      "Accuracy is 79.2\n"
     ]
    }
   ],
   "source": [
    "print (\"Accuracy is \"+ str(accuracy_score(y_test,y_pred_en)*100))"
   ]
  },
  {
   "cell_type": "markdown",
   "metadata": {},
   "source": [
    "### Confusion matrix using gini index as criterion"
   ]
  },
  {
   "cell_type": "code",
   "execution_count": 50,
   "metadata": {},
   "outputs": [
    {
     "name": "stdout",
     "output_type": "stream",
     "text": [
      "[[12  0  0  6  0  0  0  0  0  0]\n",
      " [ 7  0  0  0  0  0  0  0  0  0]\n",
      " [ 0  0  0  5  0  1  0  0  0  0]\n",
      " [ 1  0  0 13  0  0  0  0  0  0]\n",
      " [ 0  0  0  0  7  0  0  0  0  0]\n",
      " [ 0  0  0  0  0  7  0  0  0  0]\n",
      " [ 0  0  0  0  0  0  0  0  0  0]\n",
      " [ 0  0  0  0  0  0  0  0  0  0]\n",
      " [ 0  0  0  0  0  0  0  0  0  0]\n",
      " [ 0  0  0  0  0  0  0  0  0  0]]\n"
     ]
    }
   ],
   "source": [
    "from sklearn.metrics import confusion_matrix\n",
    "import matplotlib.pyplot as plt\n",
    "labels = [1,2,3,4,5,6,7,8,9,10]\n",
    "cm_gini = confusion_matrix(y_test, y_pred,labels)\n",
    "print(cm_gini)"
   ]
  },
  {
   "cell_type": "code",
   "execution_count": 51,
   "metadata": {},
   "outputs": [
    {
     "data": {
      "image/png": "[encoded data removed]",
      "text/plain": [
       "<matplotlib.figure.Figure at 0x7f2de0f8d470>"
      ]
     },
     "metadata": {
      "needs_background": "light"
     },
     "output_type": "display_data"
    }
   ],
   "source": [
    "fig = plt.figure()\n",
    "ax = fig.add_subplot(111)\n",
    "cax = ax.matshow(cm_gini)\n",
    "plt.title('Confusion matrix using gini index as criterion')\n",
    "fig.colorbar(cax)\n",
    "ax.set_xticklabels([''] + labels)\n",
    "ax.set_yticklabels([''] + labels)\n",
    "plt.xlabel('Predicted')\n",
    "plt.ylabel('True')\n",
    "plt.show()"
   ]
  },
  {
   "cell_type": "markdown",
   "metadata": {},
   "source": [
    "### Confusion matrix using information gain as criterion"
   ]
  },
  {
   "cell_type": "code",
   "execution_count": 52,
   "metadata": {},
   "outputs": [
    {
     "name": "stdout",
     "output_type": "stream",
     "text": [
      "[[18  0  0  0  0  0  0  0  0  0]\n",
      " [ 7  0  0  0  0  0  0  0  0  0]\n",
      " [ 0  0  0  5  0  1  0  0  0  0]\n",
      " [ 5  0  0  9  0  0  0  0  0  0]\n",
      " [ 0  0  0  0  7  0  0  0  0  0]\n",
      " [ 0  0  0  0  0  7  0  0  0  0]\n",
      " [ 0  0  0  0  0  0  0  0  0  0]\n",
      " [ 0  0  0  0  0  0  0  0  0  0]\n",
      " [ 0  0  0  0  0  0  0  0  0  0]\n",
      " [ 0  0  0  0  0  0  0  0  0  0]]\n"
     ]
    }
   ],
   "source": [
    "cm = confusion_matrix(y_test, y_pred_en,labels)\n",
    "print(cm)"
   ]
  },
  {
   "cell_type": "code",
   "execution_count": 53,
   "metadata": {},
   "outputs": [
    {
     "data": {
      "image/png": "[encoded data removed]",
      "text/plain": [
       "<matplotlib.figure.Figure at 0x7f2de0efde10>"
      ]
     },
     "metadata": {
      "needs_background": "light"
     },
     "output_type": "display_data"
    }
   ],
   "source": [
    "fig = plt.figure()\n",
    "ax = fig.add_subplot(111)\n",
    "cax = ax.matshow(cm)\n",
    "plt.title('Confusion matrix Using Information gain as Criterion')\n",
    "fig.colorbar(cax)\n",
    "ax.set_xticklabels([''] + labels)\n",
    "ax.set_yticklabels([''] + labels)\n",
    "plt.xlabel('Predicted')\n",
    "plt.ylabel('True')\n",
    "plt.show()"
   ]
  },
  {
   "cell_type": "code",
   "execution_count": null,
   "metadata": {},
   "outputs": [],
   "source": []
  },
  {
   "cell_type": "code",
   "execution_count": null,
   "metadata": {},
   "outputs": [],
   "source": []
  }
 ],
 "metadata": {
  "kernelspec": {
   "display_name": "Python 3",
   "language": "python",
   "name": "python3"
  },
  "language_info": {
   "codemirror_mode": {
    "name": "ipython",
    "version": 3
   },
   "file_extension": ".py",
   "mimetype": "text/x-python",
   "name": "python",
   "nbconvert_exporter": "python",
   "pygments_lexer": "ipython3",
   "version": "3.6.7"
  }
 },
 "nbformat": 4,
 "nbformat_minor": 2
}
